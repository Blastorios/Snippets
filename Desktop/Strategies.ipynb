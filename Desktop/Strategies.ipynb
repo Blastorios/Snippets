{
 "cells": [
  {
   "cell_type": "markdown",
   "metadata": {},
   "source": [
    "# Desktop Strategies\n",
    "\n",
    "A collection of Desktop strategies that will make your life easier."
   ]
  },
  {
   "cell_type": "markdown",
   "metadata": {},
   "source": [
    "---"
   ]
  },
  {
   "cell_type": "markdown",
   "metadata": {},
   "source": [
    "# Create a shortcut! (Ubuntu 20 LTS)"
   ]
  },
  {
   "cell_type": "markdown",
   "metadata": {},
   "source": [
    "Shortcuts can be stored under the `~/Desktop` directory as `*.desktop` files."
   ]
  },
  {
   "cell_type": "markdown",
   "metadata": {},
   "source": [
    "## Website Shortcut using Firefox\n",
    "\n",
    "```bash\n",
    "[Desktop Entry]\n",
    "Name=Canvas\n",
    "Comment=Canvas Dashboard\n",
    "Exec=firefox https://github.com/Blastorios\n",
    "Icon=/home/jordi/Desktop/.icons/github-logo.png\n",
    "Terminal=false\n",
    "Type=Application\n",
    "Categories=Web;\n",
    "```"
   ]
  },
  {
   "cell_type": "markdown",
   "metadata": {},
   "source": [
    "## A Directory containig Code\n",
    "\n",
    "Credit: https://github.com/microsoft/vscode/blob/main/resources/linux/code.desktop\n",
    "\n",
    "```bash\n",
    "[Desktop Entry]\n",
    "Name=Dashboard\n",
    "Comment=Dashboard Development\n",
    "Exec=/snap/bin/code --unity-launch /home/jordi/Coding/Dashboard\n",
    "Icon=/home/jordi/Desktop/.icons/vscode-logo.png\n",
    "Type=Application\n",
    "Terminal=false\n",
    "StartupNotify=false\n",
    "Categories=Utility;TextEditor;Development;IDE;\n",
    "Keywords=vscode;\n",
    "```\n",
    "\n",
    "where you need to create the `Exec=/snap/bin/code` line by checking the result from `which code`."
   ]
  },
  {
   "cell_type": "code",
   "execution_count": null,
   "metadata": {},
   "outputs": [],
   "source": []
  }
 ],
 "metadata": {
  "language_info": {
   "name": "python"
  },
  "orig_nbformat": 4
 },
 "nbformat": 4,
 "nbformat_minor": 2
}
