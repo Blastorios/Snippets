{
 "cells": [
  {
   "cell_type": "markdown",
   "metadata": {},
   "source": [
    "# General Hardware Configuration Setup"
   ]
  },
  {
   "cell_type": "markdown",
   "metadata": {},
   "source": [
    "---"
   ]
  },
  {
   "cell_type": "markdown",
   "metadata": {},
   "source": [
    "# Setup a Steelseries Mice"
   ]
  },
  {
   "cell_type": "markdown",
   "metadata": {},
   "source": [
    "First, download the following 2 packages through `sudo apt install *`:\n",
    "\n",
    "```bash\n",
    "ratbagd\n",
    "piper\n",
    "```\n",
    "\n",
    "Open using `piper` and go to Buttons. Set the buttons accordingly (copy/paste = Ctrl+Shift+c/v for terminal).\n",
    "\n",
    "In the LEDs tab, set the operation to breathing, the time to 5000ms and equal the led brightness to the distance of the time selection bar.\n",
    "\n",
    "To be continued: how to make the settings persistent on startup!\n",
    "https://github.com/libratbag/libratbag#running-ratbagd-as-dbus-activated-systemd-service"
   ]
  },
  {
   "cell_type": "code",
   "execution_count": null,
   "metadata": {},
   "outputs": [],
   "source": []
  }
 ],
 "metadata": {
  "language_info": {
   "name": "python"
  },
  "orig_nbformat": 4
 },
 "nbformat": 4,
 "nbformat_minor": 2
}
