{
 "cells": [
  {
   "cell_type": "markdown",
   "metadata": {},
   "source": [
    "# General Conda Settings / Configurations"
   ]
  },
  {
   "cell_type": "markdown",
   "metadata": {},
   "source": [
    "It is generally recommended to use the `mamba` implementation over the native Conda CLI! An amazing `C++` package that support parallization."
   ]
  },
  {
   "cell_type": "markdown",
   "metadata": {},
   "source": [
    "---"
   ]
  },
  {
   "cell_type": "markdown",
   "metadata": {},
   "source": [
    "# Tab Completion"
   ]
  },
  {
   "cell_type": "markdown",
   "metadata": {},
   "source": [
    "After installing conda, install the following into your base env:\n",
    "\n",
    "```\n",
    "conda install -c conda-forge conda-bash-completion\n",
    "```\n",
    "\n",
    "Now, ensure we activate the script without activating the base env through adding the following snippet to `~/.bashrc`:\n",
    "\n",
    "```\n",
    "CONDA_ROOT=~/anaconda3   # <- set to your Anaconda/Miniconda installation directory\n",
    "if [[ -r $CONDA_ROOT/etc/profile.d/bash_completion.sh ]]; then\n",
    "    source $CONDA_ROOT/etc/profile.d/bash_completion.sh\n",
    "fi\n",
    "```"
   ]
  },
  {
   "cell_type": "markdown",
   "metadata": {},
   "source": [
    "---"
   ]
  },
  {
   "cell_type": "markdown",
   "metadata": {},
   "source": [
    "# Conda Environment File"
   ]
  },
  {
   "cell_type": "markdown",
   "metadata": {},
   "source": [
    "A Conda environment file accepts quite a few keywords. The following example features all possible keywords:\n",
    "\n",
    "```yml\n",
    "name: example\n",
    "\n",
    "# Specifying a single channel will make sure we only\n",
    "# check this channel for the listed packages instead\n",
    "# of considering the default channel as well.\n",
    "channels:\n",
    "    - conda-forge\n",
    "\n",
    "depends:\n",
    "    - python=3.8\n",
    "    - pip\n",
    "    - numpy==1.21\n",
    "    pip:\n",
    "        - tensorflow==2.6\n",
    "```"
   ]
  },
  {
   "cell_type": "code",
   "execution_count": null,
   "metadata": {},
   "outputs": [],
   "source": []
  }
 ],
 "metadata": {
  "language_info": {
   "name": "python"
  },
  "orig_nbformat": 4
 },
 "nbformat": 4,
 "nbformat_minor": 2
}
