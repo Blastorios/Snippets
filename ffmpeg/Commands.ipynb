{
 "cells": [
  {
   "cell_type": "markdown",
   "metadata": {},
   "source": [
    "# ffmpeg commands\n",
    "\n",
    "Some handy ffmpeg commands that I has to reasearch :)."
   ]
  },
  {
   "cell_type": "markdown",
   "metadata": {},
   "source": [
    "---"
   ]
  },
  {
   "cell_type": "markdown",
   "metadata": {},
   "source": [
    "# Merge m3u8 into MP4\n",
    "\n",
    "Store a m3u8 file (basically reference file to subcompartments of a complete file) into a .mp4 file"
   ]
  },
  {
   "cell_type": "code",
   "execution_count": null,
   "metadata": {},
   "outputs": [],
   "source": [
    "%%bash\n",
    "ffmpeg -i filename.m3u8 -c copy -bsf:a aac_adtstoasc output.mp4"
   ]
  }
 ],
 "metadata": {
  "language_info": {
   "name": "python"
  },
  "orig_nbformat": 4
 },
 "nbformat": 4,
 "nbformat_minor": 2
}
