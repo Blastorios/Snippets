{
 "cells": [
  {
   "cell_type": "markdown",
   "metadata": {},
   "source": [
    "# Database Resources"
   ]
  },
  {
   "cell_type": "markdown",
   "metadata": {},
   "source": [
    "Per Listing I Present:\n",
    "\n",
    "### DB Name\n",
    "```\n",
    "Link: https://some.link.com/\n",
    "\n",
    "Free Plan: True\n",
    "\n",
    "Stats Free Plan:\n",
    "    \n",
    "    - Storage Cap: .GB\n",
    "    - Transfer Rate: .GB/day\n",
    "    \n",
    "    Additional Stats:\n",
    "        - Cloud Storage: .GB\n",
    "        - Cloud GB Downloaded: .GB/day\n",
    "```"
   ]
  },
  {
   "cell_type": "markdown",
   "metadata": {},
   "source": [
    "---"
   ]
  },
  {
   "cell_type": "markdown",
   "metadata": {},
   "source": [
    "### Google Drive\n",
    "```\n",
    "Link: https://drive.google.com/\n",
    "\n",
    "Free Plan: True\n",
    "\n",
    "Stats Free Plan:\n",
    "    \n",
    "    - Storage Cap: 15GB\n",
    "    - Transfer Rate: Unlimited GB/day\n",
    "    \n",
    "    Additional Stats:\n",
    "        - Only Tabular Storage through Excel sheets API\n",
    "```"
   ]
  },
  {
   "cell_type": "markdown",
   "metadata": {},
   "source": [
    "---"
   ]
  },
  {
   "cell_type": "markdown",
   "metadata": {},
   "source": [
    "### Google's Firebase\n",
    "```\n",
    "https://firebase.google.com/\n",
    "\n",
    "Free Plan: True\n",
    "\n",
    "Stats Free Plan:\n",
    "    Storage Cap: 10GB\n",
    "    Transfer Rate: 360MB/day\n",
    "\n",
    "    Additional Stats:\n",
    "        - Cloud Storage: 5GB\n",
    "        - Cloud GB Downloaded: 1GB/day\n",
    "```"
   ]
  },
  {
   "cell_type": "markdown",
   "metadata": {},
   "source": [
    "---"
   ]
  },
  {
   "cell_type": "markdown",
   "metadata": {},
   "source": [
    "### Supabase\n",
    "```\n",
    "Link: https://supabase.com/\n",
    "\n",
    "Free Plan: True\n",
    "\n",
    "Stats Free Plan:\n",
    "    \n",
    "    - Storage Cap: 0.5GB\n",
    "    - Transfer Rate: 2GB/day\n",
    "```"
   ]
  },
  {
   "cell_type": "markdown",
   "metadata": {},
   "source": [
    "---"
   ]
  },
  {
   "cell_type": "markdown",
   "metadata": {},
   "source": []
  },
  {
   "cell_type": "markdown",
   "metadata": {},
   "source": [
    "---"
   ]
  },
  {
   "cell_type": "markdown",
   "metadata": {},
   "source": []
  },
  {
   "cell_type": "markdown",
   "metadata": {},
   "source": [
    "---"
   ]
  },
  {
   "cell_type": "markdown",
   "metadata": {},
   "source": []
  },
  {
   "cell_type": "markdown",
   "metadata": {},
   "source": [
    "---"
   ]
  },
  {
   "cell_type": "markdown",
   "metadata": {},
   "source": []
  },
  {
   "cell_type": "markdown",
   "metadata": {},
   "source": [
    "---"
   ]
  },
  {
   "cell_type": "markdown",
   "metadata": {},
   "source": []
  },
  {
   "cell_type": "markdown",
   "metadata": {},
   "source": [
    "---"
   ]
  },
  {
   "cell_type": "code",
   "execution_count": null,
   "metadata": {},
   "outputs": [],
   "source": []
  }
 ],
 "metadata": {
  "language_info": {
   "name": "python"
  },
  "orig_nbformat": 4
 },
 "nbformat": 4,
 "nbformat_minor": 2
}
