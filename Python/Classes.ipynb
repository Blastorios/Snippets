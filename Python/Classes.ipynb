{
 "cells": [
  {
   "cell_type": "markdown",
   "metadata": {},
   "source": [
    "# Python Classes\n",
    "\n",
    "Nuances within the object creation of Python. **Important:** I did not order the difficulty level of class creation. Metaclasses are considered to be at an *intermediar* lever compared to the beginner level of general class creation."
   ]
  },
  {
   "cell_type": "code",
   "execution_count": null,
   "metadata": {},
   "outputs": [],
   "source": [
    "from abc import ABC, abstractmethod\n",
    "import dataclasses\n",
    "import math\n",
    "from typing import *  # Bad practice but easier for sake of examples."
   ]
  },
  {
   "cell_type": "markdown",
   "metadata": {},
   "source": [
    "---"
   ]
  },
  {
   "cell_type": "markdown",
   "metadata": {},
   "source": [
    "# A Metaclass\n",
    "\n",
    "Sometime you might want to infer what set of methods a class needs to hold in order to be created successfully. This is where metaclasses come into play. They allow you to define a set of methods in a class that will help debug your code."
   ]
  },
  {
   "cell_type": "code",
   "execution_count": null,
   "metadata": {},
   "outputs": [],
   "source": [
    "class MetaShape(ABC):\n",
    "    \"\"\"Predefine some of the functionality\n",
    "    we expect to see in a Shape class. We \n",
    "    cannot init this class!\"\"\"\n",
    "    \n",
    "    @abstractmethod\n",
    "    def pi_area(self):\n",
    "        pass"
   ]
  },
  {
   "cell_type": "markdown",
   "metadata": {},
   "source": [
    "---"
   ]
  },
  {
   "cell_type": "markdown",
   "metadata": {},
   "source": [
    "# A Class"
   ]
  },
  {
   "cell_type": "code",
   "execution_count": null,
   "metadata": {},
   "outputs": [],
   "source": [
    "# A minimal yet comprehensive example\n",
    "\n",
    "class Shape(object, metaclass=MetaShape):\n",
    "    \"\"\"\n",
    "    A general class from which we can inherit\n",
    "    for future shapes (circles, triangles, etc).\n",
    "    \"\"\"\n",
    "    \n",
    "    def __init__(self, name: str, area: float):\n",
    "        self.name = name\n",
    "        self.area = .0\n",
    "    \n",
    "    # We can use the property decorator to make these methods\n",
    "    # read-only properties where we intercept the get and set\n",
    "    # dundermethods with our customized decorator-defined methods.\n",
    "    \n",
    "    @property\n",
    "    def area(self):\n",
    "        \"\"\"This is a property that returns the area of the shape.\"\"\"\n",
    "        return self.area\n",
    "\n",
    "    @area.setter\n",
    "    def area(self, value):\n",
    "        \"\"\"This is a property that sets the area of the shape.\"\"\"\n",
    "        self.area = value\n",
    "    \n",
    "    @area.getter\n",
    "    def area(self):\n",
    "        \"\"\"This is the getter for the area property.\"\"\"\n",
    "        return self.area\n",
    "    \n",
    "    @area.deleter\n",
    "    def area(self):\n",
    "        \"\"\"This is the deleter for the area property.\"\"\"\n",
    "        del self.area\n",
    "    \n",
    "    # Sometimes we only need to use a function for a certain class\n",
    "    # but we do not need any class attributes or methods. We can\n",
    "    # use a static method to do this. We can call this method by\n",
    "    # using the class name and the method name: `Shape.produce_string(...)`.\n",
    "    \n",
    "    @staticmethod\n",
    "    def produce_string():\n",
    "        \"\"\"This is a static method. Notice how we do **not** use\n",
    "        the `self` in the parameters and do not need any attributes\n",
    "        or methods from the class.\"\"\"\n",
    "        return \"Static method\"\n",
    "    \n",
    "    # To build an object from a string, we need to the classmethod.\n",
    "    # Example usage is `circle = Shape.from_string([\"C\", \"i\", \"r\", \"c\", \"l\", \"e\"])`\n",
    "    # and is the same as `circle = Shape(Circle)`.\n",
    "    \n",
    "    @classmethod\n",
    "    def from_string(cls, letters: List[str]):\n",
    "        \"\"\"This is a class method that can be used to\n",
    "        build an object from a list of letters.\"\"\"\n",
    "        return cls(''.join(letters))\n",
    "    \n",
    "    # Python also supports function overloading. Where you can\n",
    "    # define multiple methods with the same name but different parameters.\n",
    "    \n",
    "    @overload\n",
    "    def overload_method(self, a: int, b: int):\n",
    "        \"\"\"The type of the input parameters will dictate\n",
    "        the used function.\"\"\"\n",
    "        return a + b\n",
    "    \n",
    "    @overload\n",
    "    def overload_method(self, a: str, b: str):\n",
    "        \"\"\"Here we concatenate instead of performing\n",
    "        an integer addition.\"\"\"\n",
    "        return a + b\n",
    "        \n",
    "    # Of course, the most used way of using a class is by defining\n",
    "    # new methods that simply add functionality to the class.\n",
    "    # The following `pi_area` allows people to call `pi_area` on any shape.\n",
    "    \n",
    "    def pi_area(self):\n",
    "        \"\"\"All shapes have some type of area, even `0` is\n",
    "        infering the shape does not have an area. We will\n",
    "        override this with another area method when we build\n",
    "        inherited objects.\"\"\"\n",
    "        return math.pi * self.area\n",
    "    \n",
    "    # The following methods are object representations:\n",
    "    \n",
    "    def __str__(self):\n",
    "        \"\"\"This is the **human** interpreted representation\n",
    "        of the object.\"\"\"\n",
    "        return f\"Shape.{self.name}\"\n",
    "    \n",
    "    \n",
    "    def __repr__(self):\n",
    "        \"\"\"This is the **machine** interpreted representation\n",
    "        of the object.\"\"\"\n",
    "        return self.name\n",
    "    \n",
    "    # The following methods are the **unary** operators:\n",
    "    \n",
    "    def __rshift__(self, other):\n",
    "        \"\"\"This is the right shift operator.\"\"\"\n",
    "        return self.area >> other.area\n",
    "    \n",
    "    def __invert__(self):\n",
    "        \"\"\"This is the bitwise invert\"\"\"\n",
    "        return ~self.area\n",
    "    \n",
    "    def __xor__(self, other):\n",
    "        \"\"\"This is the bitwise xor\"\"\"\n",
    "        return self.area ^ other.area\n",
    "    \n",
    "    def __lshift__(self, other):\n",
    "        \"\"\"This is the left shift operator.\"\"\"\n",
    "        return self.area << other.area\n",
    "    \n",
    "    def __eq__(self, other):\n",
    "        \"\"\"This is the equality operator.\"\"\"\n",
    "        return self.area == other.area\n",
    "    \n",
    "    \n",
    "    def __ne__(self, other):\n",
    "        \"\"\"This is the inequality operator.\"\"\"\n",
    "        return self.area != other.area\n",
    "    \n",
    "    \n",
    "    def __lt__(self, other):\n",
    "        \"\"\"This is the less than operator.\"\"\"\n",
    "        return self.area < other.area\n",
    "    \n",
    "    \n",
    "    def __gt__(self, other):\n",
    "        \"\"\"This is the greater than operator.\"\"\"\n",
    "        return self.area > other.area\n",
    "    \n",
    "    \n",
    "    def __le__(self, other):\n",
    "        \"\"\"This is the less than or equal to operator.\"\"\"\n",
    "        return self.area <= other.area\n",
    "    \n",
    "    \n",
    "    def __ge__(self, other):\n",
    "        \"\"\"This is the greater than or equal to operator.\"\"\"\n",
    "        return self.area >= other.area\n",
    "    \n",
    "    \n",
    "    def __add__(self, other):\n",
    "        \"\"\"This is the addition operator.\"\"\"\n",
    "        return self.area + other.area\n",
    "    \n",
    "    \n",
    "    def __sub__(self, other):\n",
    "        \"\"\"This is the subtraction operator.\"\"\"\n",
    "        return self.area - other.area\n",
    "    \n",
    "    \n",
    "    def __mul__(self, other):\n",
    "        \"\"\"This is the multiplication operator.\"\"\"\n",
    "        return self.area * other.area\n",
    "    \n",
    "    \n",
    "    def __truediv__(self, other):\n",
    "        \"\"\"This is the division operator.\"\"\"\n",
    "        return self.area / other.area\n",
    "    \n",
    "    \n",
    "    def __floordiv__(self, other):\n",
    "        \"\"\"This is the floor division operator.\"\"\"\n",
    "        return self.area // other.area\n",
    "    \n",
    "    \n",
    "    def __mod__(self, other):\n",
    "        \"\"\"This is the modulus operator.\"\"\"\n",
    "        return self.area % other.area\n",
    "    \n",
    "    \n",
    "    def __pow__(self, other):\n",
    "        \"\"\"This is the exponent operator.\"\"\"\n",
    "        return self.area ** other.area\n",
    "    \n",
    "    \n",
    "    def __and__(self, other):\n",
    "        \"\"\"This is the bitwise and operator.\"\"\"\n",
    "        return self.area & other.area\n",
    "    \n",
    "    \n",
    "    def __or__(self, other):\n",
    "        \"\"\"This is the bitwise or\"\"\"\n",
    "        return self.area | other.area"
   ]
  },
  {
   "cell_type": "markdown",
   "metadata": {},
   "source": [
    "---"
   ]
  },
  {
   "cell_type": "markdown",
   "metadata": {},
   "source": [
    "# Class Inheritance\n",
    "\n",
    "and method overriding, etc."
   ]
  },
  {
   "cell_type": "code",
   "execution_count": null,
   "metadata": {},
   "outputs": [],
   "source": [
    "class Circle(Shape):\n",
    "    \"\"\"\n",
    "    A circle is a subclass of Shape. All methods and attributes\n",
    "    are available to the subclass. We can override methods and\n",
    "    attributes from the superclass.\n",
    "    \n",
    "    We access the superclass methods and attributes by using\n",
    "    super().__init__().\n",
    "    \"\"\"\n",
    "    def __init__(self, radius: float):\n",
    "        super().__init__(\"Circle\", radius ** 2 * math.pi)\n",
    "        self.radius = radius\n",
    "    \n",
    "    def __str__(self):\n",
    "        return f\"Circle.{self.radius}\"\n",
    "    \n",
    "    def __repr__(self):\n",
    "        return f\"Circle({self.radius})\"\n",
    "    \n",
    "    # Override the default rshift with a custom 'circle' one.\n",
    "    \n",
    "    def __rshift__(self, other):\n",
    "        return self.radius >> other.radius"
   ]
  },
  {
   "cell_type": "markdown",
   "metadata": {},
   "source": [
    "---"
   ]
  },
  {
   "cell_type": "markdown",
   "metadata": {},
   "source": [
    "# Create a decorator from a class\n",
    "\n",
    "Since a normal decorator is boring?"
   ]
  },
  {
   "cell_type": "code",
   "execution_count": null,
   "metadata": {},
   "outputs": [],
   "source": [
    "class TransformShape(object):\n",
    "    \"\"\"\n",
    "    A class that can be used to transform a shape.\n",
    "    \"\"\"\n",
    "    \n",
    "    def __init__(self, function) -> None:\n",
    "        self.function = function\n",
    "    \n",
    "    def reshape(self, shape: Shape, transformation: float = math.pi) -> Shape:\n",
    "        \"\"\"\n",
    "        This method is used to transform a shape.\n",
    "        \"\"\"\n",
    "        return shape / transformation\n",
    "    \n",
    "    def __call__(self, shape: Shape) -> Shape:\n",
    "        return self.function(self.reshape(shape))"
   ]
  },
  {
   "cell_type": "markdown",
   "metadata": {},
   "source": [
    "---"
   ]
  },
  {
   "cell_type": "markdown",
   "metadata": {},
   "source": [
    "# Advanced Decoration\n",
    "\n"
   ]
  },
  {
   "cell_type": "code",
   "execution_count": null,
   "metadata": {},
   "outputs": [],
   "source": []
  },
  {
   "cell_type": "code",
   "execution_count": null,
   "metadata": {},
   "outputs": [],
   "source": []
  }
 ],
 "metadata": {
  "interpreter": {
   "hash": "6e6fb0a14deb3504d63dd1974ed306a1a72d24c7820921aa729144091365fae1"
  },
  "kernelspec": {
   "display_name": "Python 3.7.11 64-bit ('py37': conda)",
   "language": "python",
   "name": "python3"
  },
  "language_info": {
   "name": "python",
   "version": "3.7.11"
  },
  "orig_nbformat": 4
 },
 "nbformat": 4,
 "nbformat_minor": 2
}
